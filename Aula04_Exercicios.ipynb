{
  "nbformat": 4,
  "nbformat_minor": 0,
  "metadata": {
    "colab": {
      "name": "Aula04_Exercicios.ipynb",
      "provenance": [],
      "collapsed_sections": [],
      "include_colab_link": true
    },
    "kernelspec": {
      "name": "python3",
      "display_name": "Python 3"
    },
    "language_info": {
      "name": "python"
    }
  },
  "cells": [
    {
      "cell_type": "markdown",
      "metadata": {
        "id": "view-in-github",
        "colab_type": "text"
      },
      "source": [
        "<a href=\"https://colab.research.google.com/github/Alexandre481/Blueturma2/blob/main/Aula04_Exercicios.ipynb\" target=\"_parent\"><img src=\"https://colab.research.google.com/assets/colab-badge.svg\" alt=\"Open In Colab\"/></a>"
      ]
    },
    {
      "cell_type": "markdown",
      "metadata": {
        "id": "DptQTkwqN7v9"
      },
      "source": [
        "# Exercícios de Aquecimento\n",
        "\n",
        "## Exercício 01\n",
        "Elabore um programa que imprima na tela a seguinte frase `Olá Mundo! Esse é o meu primeiro programa`"
      ]
    },
    {
      "cell_type": "code",
      "metadata": {
        "id": "fu-Hvxg7OT64",
        "colab": {
          "base_uri": "https://localhost:8080/"
        },
        "outputId": "ed57c0fb-6c7e-4c1d-c2c8-bf6418ef0376"
      },
      "source": [
        "print(\"Olá Mundo!Esse é o meu primeiro programa\")"
      ],
      "execution_count": 1,
      "outputs": [
        {
          "output_type": "stream",
          "text": [
            "Olá Mundo!Esse é o meu primeiro programa\n"
          ],
          "name": "stdout"
        }
      ]
    },
    {
      "cell_type": "markdown",
      "metadata": {
        "id": "HYnPLbl2OfuE"
      },
      "source": [
        "## Exercício 02\n",
        "Elabore um programa que escreve seu nome completo na primeira linha, seu endereço na segunda e o CEP e telefone na terceira.  \n",
        "\n",
        "**Exemplo:**\n",
        "```\n",
        "Nome: Bruno Fabri\n",
        "Endereço: Rua ABC\n",
        "CEP: 002220-010\n",
        "```"
      ]
    },
    {
      "cell_type": "code",
      "metadata": {
        "id": "sUrmuOzbO5Cd",
        "colab": {
          "base_uri": "https://localhost:8080/"
        },
        "outputId": "a47192b2-f609-4759-9de3-0c0a419761ce"
      },
      "source": [
        "#inserir informações na mesma linha\n",
        "print(\"Meu nome Alexandre Carlos Gonzaga\\nrua abc\\ncep:002220-010\\ntelefone 11 98100 0951 \")\n"
      ],
      "execution_count": 5,
      "outputs": [
        {
          "output_type": "stream",
          "text": [
            "Meu nome Alexandre Carlos Gonzaga\n",
            "rua abc\n",
            "cep:002220-010\n",
            "telefone 11 98100 0951 \n"
          ],
          "name": "stdout"
        }
      ]
    },
    {
      "cell_type": "markdown",
      "metadata": {
        "id": "5XVY0cvwP1WX"
      },
      "source": [
        "## Exercício 03\n",
        "Elabore um programa que recebe o nome de uma pessoa do terminal e mostra a seguinte mensagem: `Olá {nome}! Seja bem vindo ao fantástico mundo da programação`"
      ]
    },
    {
      "cell_type": "code",
      "metadata": {
        "colab": {
          "base_uri": "https://localhost:8080/",
          "height": 172
        },
        "id": "vtKLHbezA6nQ",
        "outputId": "00792021-2861-45d4-da84-b04acbc5a228"
      },
      "source": [
        "print(\"Olá\" ,nome,\"!Seja bem vindo ao fantástico mundo da programação\")\n"
      ],
      "execution_count": 17,
      "outputs": [
        {
          "output_type": "error",
          "ename": "NameError",
          "evalue": "ignored",
          "traceback": [
            "\u001b[0;31m---------------------------------------------------------------------------\u001b[0m",
            "\u001b[0;31mNameError\u001b[0m                                 Traceback (most recent call last)",
            "\u001b[0;32m<ipython-input-17-5edc28538531>\u001b[0m in \u001b[0;36m<module>\u001b[0;34m()\u001b[0m\n\u001b[0;32m----> 1\u001b[0;31m \u001b[0mprint\u001b[0m\u001b[0;34m(\u001b[0m\u001b[0;34m\"Olá\"\u001b[0m \u001b[0;34m,\u001b[0m\u001b[0mnome\u001b[0m\u001b[0;34m,\u001b[0m\u001b[0;34m\"!Seja bem vindo ao fantástico mundo da programação\"\u001b[0m\u001b[0;34m)\u001b[0m\u001b[0;34m\u001b[0m\u001b[0;34m\u001b[0m\u001b[0m\n\u001b[0m",
            "\u001b[0;31mNameError\u001b[0m: name 'nome' is not defined"
          ]
        }
      ]
    },
    {
      "cell_type": "markdown",
      "metadata": {
        "id": "1Nb29agVQc3k"
      },
      "source": [
        "## Exercício 04\n",
        "Elabore um programa que recebe dois valores inteiros e mostra a soma desses valores\n",
        "\n",
        "**Exemplo:**\n",
        "\n",
        "```\n",
        "Primeiro Valor = 2\n",
        "Segundo Valor = 3\n",
        "Soma = 5\n",
        "```"
      ]
    },
    {
      "cell_type": "code",
      "metadata": {
        "id": "a6_BwVwRROmH",
        "colab": {
          "base_uri": "https://localhost:8080/"
        },
        "outputId": "3aee053f-5e23-4429-8f3a-869825fe74df"
      },
      "source": [
        "numero1=2\n",
        "numero2=3\n",
        "numero1+numero2"
      ],
      "execution_count": 25,
      "outputs": [
        {
          "output_type": "execute_result",
          "data": {
            "text/plain": [
              "5"
            ]
          },
          "metadata": {
            "tags": []
          },
          "execution_count": 25
        }
      ]
    },
    {
      "cell_type": "markdown",
      "metadata": {
        "id": "4HQxR3FTTbSr"
      },
      "source": [
        "## Exercício 05\n",
        "Elabore um programa que recebe dois valores inteiros e mostra se o primeiro valor é maior ou igual ao segundo valor\n",
        "\n",
        "**Exemplo:**\n",
        "```\n",
        "Primeiro Valor = 3\n",
        "Segundo Valor = 2\n",
        "Resultado = True\n",
        "```"
      ]
    },
    {
      "cell_type": "code",
      "metadata": {
        "id": "OXISQASdTeSW",
        "colab": {
          "base_uri": "https://localhost:8080/",
          "height": 209
        },
        "outputId": "145ada3e-8f54-471b-cd93-afd74b39bd30"
      },
      "source": [
        "numero1=float3\n",
        "numero2=float2\n",
        "numero1<numero2"
      ],
      "execution_count": 26,
      "outputs": [
        {
          "output_type": "error",
          "ename": "NameError",
          "evalue": "ignored",
          "traceback": [
            "\u001b[0;31m---------------------------------------------------------------------------\u001b[0m",
            "\u001b[0;31mNameError\u001b[0m                                 Traceback (most recent call last)",
            "\u001b[0;32m<ipython-input-26-07e325a28983>\u001b[0m in \u001b[0;36m<module>\u001b[0;34m()\u001b[0m\n\u001b[0;32m----> 1\u001b[0;31m \u001b[0mnumero1\u001b[0m\u001b[0;34m=\u001b[0m\u001b[0mfloat3\u001b[0m\u001b[0;34m\u001b[0m\u001b[0;34m\u001b[0m\u001b[0m\n\u001b[0m\u001b[1;32m      2\u001b[0m \u001b[0mnumero2\u001b[0m\u001b[0;34m=\u001b[0m\u001b[0mfloat2\u001b[0m\u001b[0;34m\u001b[0m\u001b[0;34m\u001b[0m\u001b[0m\n\u001b[1;32m      3\u001b[0m \u001b[0mnumero1\u001b[0m\u001b[0;34m<\u001b[0m\u001b[0mnumero2\u001b[0m\u001b[0;34m\u001b[0m\u001b[0;34m\u001b[0m\u001b[0m\n",
            "\u001b[0;31mNameError\u001b[0m: name 'float3' is not defined"
          ]
        }
      ]
    },
    {
      "cell_type": "markdown",
      "metadata": {
        "id": "Gn8rHPn3UCnc"
      },
      "source": [
        "## Exercício 06\n",
        "Elabore um programa que recebe o seu nome, endereço e hobby e mostra cada uma das informações da seguinte forma:\n",
        "- Nome -> Letra maiúscula\n",
        "- Endereço -> Letra minúscula\n",
        "- Hobby -> Primeira letra maiúscula\n",
        "\n",
        "**Exemplo Entrada:**\n",
        "```\n",
        "Nome: bruno fabri\n",
        "Endereço: Rua ABC\n",
        "Hobby: jogar cs\n",
        "```\n",
        "\n",
        "**Exemplo Saída:**\n",
        "```\n",
        "Nome: BRUNO FABRI\n",
        "Endereço: rua abc\n",
        "Hobby: Jogar cs\n",
        "```"
      ]
    },
    {
      "cell_type": "code",
      "metadata": {
        "id": "ZIj-PGVZVVP6",
        "colab": {
          "base_uri": "https://localhost:8080/"
        },
        "outputId": "ab27d1ef-d301-42f6-8a5b-19ac65ba22b2"
      },
      "source": [
        "nome=input(\"Digite seu nome:\")\n",
        "endereço=input(\"Digite seu endereço:\")\n",
        "hobby=input(\"Digite seu hobby!\")\n",
        "print(nome.upper())\n",
        "print(endereço.lower())\n",
        "print(hobby.title())\n",
        "print(nome.capitalize())"
      ],
      "execution_count": 32,
      "outputs": [
        {
          "output_type": "stream",
          "text": [
            "Digite seu nome:bruno\n",
            "Digite seu endereço:rua abc\n",
            "Digite seu hobby!rush\n",
            "BRUNO\n",
            "rua abc\n",
            "Rush\n",
            "Bruno\n"
          ],
          "name": "stdout"
        }
      ]
    },
    {
      "cell_type": "markdown",
      "metadata": {
        "id": "wlvmEAPQNrcL"
      },
      "source": [
        "# Mini Projetos"
      ]
    },
    {
      "cell_type": "markdown",
      "metadata": {
        "id": "W8zwueNBKh4B"
      },
      "source": [
        "## Mini Projeto 01 - Conversor de Moeda\n",
        "Vamos construir um programa que irá converter moedas do real para o dólar e do dólar para o real. Vamos considerar que `$ 1,00 = R$ 5,75`\n",
        "\n",
        "### Parte 1\n",
        "Faça o conversor de moeda receber o valor em real e mostrar o valor convertido para dólar no formato `$ XXXX.XX`\n",
        "\n",
        "**Exemplo:**\n",
        "\n",
        "```\n",
        "Valor em R$ = 1000\n",
        "Valor em $ = $ 173.91\n",
        "```\n",
        "\n",
        "### Parte 2\n",
        "Altere o conversor de moedas para receber o valor em dólar, converter para real e mostrar o resultado no formato `R$ XXXX.XX`\n",
        "\n",
        "**Exemplo:**\n",
        "```\n",
        "Valor em $ = 1000\n",
        "Valor em R$ = R$ 5750.00\n",
        "```"
      ]
    },
    {
      "cell_type": "code",
      "metadata": {
        "id": "mRQ9fpIgMp5Z",
        "colab": {
          "base_uri": "https://localhost:8080/"
        },
        "outputId": "fc23377a-21a1-4092-8fb3-44e73e55309d"
      },
      "source": [
        "dolar=float(input(\"digite o valor em dolar\"))\n",
        "valoremreais=float(input(\"digite o valor em reais\"))\n",
        "soma=dolar*valoremreais\n",
        "print(\"valor total é\",soma)\n"
      ],
      "execution_count": 37,
      "outputs": [
        {
          "output_type": "stream",
          "text": [
            "digite o valor em dolar1000\n",
            "digite o valor em reais5.75\n",
            "valor total é 5750.0\n"
          ],
          "name": "stdout"
        }
      ]
    },
    {
      "cell_type": "code",
      "metadata": {
        "id": "vS1lDRVkTlaj"
      },
      "source": [
        "valordocambioemreais=float(input(\"digite o valor em reais\"))\n",
        "valoremreais=float(input(\"digite o valor em reais?\"))\n",
        "soma=valoremreais/dolar\n",
        "print(\"valor total é\",soma)"
      ],
      "execution_count": null,
      "outputs": []
    },
    {
      "cell_type": "code",
      "metadata": {
        "colab": {
          "base_uri": "https://localhost:8080/"
        },
        "id": "fIhEz_lQVmz3",
        "outputId": "5b9dde96-101f-4ab7-c205-28e2bd91cd64"
      },
      "source": [
        "real=float(input(\"digite o valor em reais\"))\n",
        "cambio=float(input(\"digite o valor do cambio\"))\n",
        "soma=real/cambio\n",
        "print(\"valor em dolar é\",soma)\n"
      ],
      "execution_count": 55,
      "outputs": [
        {
          "output_type": "stream",
          "text": [
            "digite o valor em reais1000\n",
            "digite o valor do cambio5.75\n",
            "valor em dolar é 173.91304347826087\n"
          ],
          "name": "stdout"
        }
      ]
    },
    {
      "cell_type": "markdown",
      "metadata": {
        "id": "0NmAiF2DV_ju"
      },
      "source": [
        "## Mini Projeto 02 - Calculadora de aumento de aluguel\n",
        "Vamos construir um programa que irá calcular o aumento anual do seu aluguel em duas partes:\n",
        "\n",
        "### Parte 1\n",
        "A sua calculadora vai receber o `valor do aluguel` e calcular o aumento baseado no `IGPM de 31%`. A calculadora deve apresentar o aluguel reajustado no formato `R$ XXXX.XX`\n",
        "\n",
        "**Exemplo:**\n",
        "```\n",
        "Valor do aluguel = 1000\n",
        "Valor do aluguel reajustado = R$ 1310,00\n",
        "```\n",
        "\n",
        "### Parte 2\n",
        "Agora, altere sua calculadora para receber além do `valor do aluguel`, o percentual do reajuste no formato `XX%`.  \n",
        "\n",
        "**Dica:** Descubra uma forma de transformar o percentual recebido em um número para efetuar o cálculo.\n",
        "\n",
        "**Exemplo:**\n",
        "```\n",
        "Valor do aluguel = 1000\n",
        "Percentual do reajuste = 31%\n",
        "Valor do aluguel reajustado = R% 1310,00\n",
        "```"
      ]
    },
    {
      "cell_type": "code",
      "metadata": {
        "id": "0eHzSCyaGkYJ",
        "colab": {
          "base_uri": "https://localhost:8080/"
        },
        "outputId": "e705513e-1015-4e6b-89db-b84caef3d3ca"
      },
      "source": [
        "valordoaluguel=1000\n",
        "percentual=1000*131\n",
        "print(percentual/100)"
      ],
      "execution_count": 64,
      "outputs": [
        {
          "output_type": "stream",
          "text": [
            "1310.0\n"
          ],
          "name": "stdout"
        }
      ]
    },
    {
      "cell_type": "code",
      "metadata": {
        "id": "OqAlJe9Gcyr8",
        "outputId": "085678a9-6ae8-417b-ec53-3eacc5285246",
        "colab": {
          "base_uri": "https://localhost:8080/"
        }
      },
      "source": [
        "aluguel=float(input(\"digite o valor do aluguel\"))\n",
        "porcentagem=float(input(\"digite o valor do percentual\"))\n",
        "soma=(aluguel*porcentagem)/100+aluguel\n",
        "print(soma)"
      ],
      "execution_count": 73,
      "outputs": [
        {
          "output_type": "stream",
          "text": [
            "digite o valor do aluguel1000\n",
            "digite o valor do percentual31\n",
            "1310.0\n"
          ],
          "name": "stdout"
        }
      ]
    },
    {
      "cell_type": "markdown",
      "metadata": {
        "id": "xN88sUuMOG46"
      },
      "source": [
        "## Mini Projeto 03 - Calculadora de dano\n",
        "Vamos implementar a calculadora de dano de RPG!!\n",
        "\n",
        "### Parte 1\n",
        "O programa vai receber a `vida e um monstro (entre 10 e 50)` e o `valor do ataque do jogador por turno (entre 5 e 10)`\n",
        "\n",
        "Baseado nos valores, exiba a quantidade de turnos que o jogador irá demorar para conseguir derrotar o monstro.\n",
        "\n",
        "**Exemplo:**\n",
        "```\n",
        "Vida de um monstro (entre 10 e 50): 26\n",
        "Valor do ataque do jogador por turno (entre 5 e 10): 5\n",
        "Resultado: O jogador irá precisar de 6 turnos para derrotar o monstro.\n",
        "```\n",
        "\n",
        "### Parte 2\n",
        "Altere o programa para ao invés de receber a vida do monstro, gerar aleatoriamente um valor entre 10 e 50."
      ]
    },
    {
      "cell_type": "code",
      "metadata": {
        "id": "Mrpz9UomQH2P"
      },
      "source": [
        ""
      ],
      "execution_count": null,
      "outputs": []
    }
  ]
}