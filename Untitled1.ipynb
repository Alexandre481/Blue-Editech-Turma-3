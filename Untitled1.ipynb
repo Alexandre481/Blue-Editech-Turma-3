{
  "nbformat": 4,
  "nbformat_minor": 0,
  "metadata": {
    "colab": {
      "name": "Untitled1.ipynb",
      "provenance": [],
      "authorship_tag": "ABX9TyN3ZamKo0WBUEF8ZFDtv1Q0",
      "include_colab_link": true
    },
    "kernelspec": {
      "name": "python3",
      "display_name": "Python 3"
    },
    "language_info": {
      "name": "python"
    }
  },
  "cells": [
    {
      "cell_type": "markdown",
      "metadata": {
        "id": "view-in-github",
        "colab_type": "text"
      },
      "source": [
        "<a href=\"https://colab.research.google.com/github/Alexandre481/Blueturma2/blob/main/Untitled1.ipynb\" target=\"_parent\"><img src=\"https://colab.research.google.com/assets/colab-badge.svg\" alt=\"Open In Colab\"/></a>"
      ]
    },
    {
      "cell_type": "code",
      "metadata": {
        "colab": {
          "base_uri": "https://localhost:8080/",
          "height": 135
        },
        "id": "5LGkRCbMWslP",
        "outputId": "111e5e92-6cd0-4252-bcf8-754f74a804c1"
      },
      "source": [
        "nome=input(\"digite seu nome:\")\n",
        "\n",
        "if nome==\"Filipe\":\n",
        "   print(\"Você não é o Ana Paula!\"\")\n",
        "   else:\n",
        "     print(\"Você não é o Filipe\")"
      ],
      "execution_count": 24,
      "outputs": [
        {
          "output_type": "error",
          "ename": "SyntaxError",
          "evalue": "ignored",
          "traceback": [
            "\u001b[0;36m  File \u001b[0;32m\"<ipython-input-24-d51f9a5660ea>\"\u001b[0;36m, line \u001b[0;32m4\u001b[0m\n\u001b[0;31m    print(\"Você não é o Ana Paula!\"\")\u001b[0m\n\u001b[0m                                     ^\u001b[0m\n\u001b[0;31mSyntaxError\u001b[0m\u001b[0;31m:\u001b[0m EOL while scanning string literal\n"
          ]
        }
      ]
    },
    {
      "cell_type": "code",
      "metadata": {
        "id": "v-VtWcBudZ1l"
      },
      "source": [
        "#O aluno ficou de recuperação?\n",
        "nota =float(input(\"Digite a média final\"))\n",
        "if nota >=7:\n",
        "  print(\"O aluno está aprovado!\")\n",
        "elif nota < 4:\n",
        "    print (\"O aluno está reprovado\")\n",
        "else:\n",
        "      print(\"O aluno está em recuperação\")"
      ],
      "execution_count": null,
      "outputs": []
    },
    {
      "cell_type": "code",
      "metadata": {
        "colab": {
          "base_uri": "https://localhost:8080/"
        },
        "id": "nWwzNQNPfkRj",
        "outputId": "1a845c40-e19a-4645-e6d8-385262c3ff67"
      },
      "source": [
        "nota =float(input(\"Digite a média final\"))\n",
        "if nota >=7:\n",
        "  print(\"O aluno está aprovado!\") \n",
        "elif 4<= nota <= 4.9:\n",
        "\n",
        "    print (\"O aluno está reprovado!\")\n",
        "else:\n",
        " print(\"O aluno esta em recuperação\")"
      ],
      "execution_count": 63,
      "outputs": [
        {
          "output_type": "stream",
          "text": [
            "Digite a média final5\n",
            "O aluno esta em recuperação\n"
          ],
          "name": "stdout"
        }
      ]
    },
    {
      "cell_type": "code",
      "metadata": {
        "colab": {
          "base_uri": "https://localhost:8080/",
          "height": 135
        },
        "id": "va5bfD3PgAab",
        "outputId": "c235c03d-6f26-48c3-b2c1-f69292055a1f"
      },
      "source": [
        "numero25\n",
        "numero44\n",
        "numero86\n",
        "numero25=if 25<44\n",
        " elif 44<86\n",
        "print"
      ],
      "execution_count": 75,
      "outputs": [
        {
          "output_type": "error",
          "ename": "SyntaxError",
          "evalue": "ignored",
          "traceback": [
            "\u001b[0;36m  File \u001b[0;32m\"<ipython-input-75-6b8828bf3ae7>\"\u001b[0;36m, line \u001b[0;32m4\u001b[0m\n\u001b[0;31m    if 25<44\u001b[0m\n\u001b[0m            ^\u001b[0m\n\u001b[0;31mSyntaxError\u001b[0m\u001b[0;31m:\u001b[0m invalid syntax\n"
          ]
        }
      ]
    }
  ]
}