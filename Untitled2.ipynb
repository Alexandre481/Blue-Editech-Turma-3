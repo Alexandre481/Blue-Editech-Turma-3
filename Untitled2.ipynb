{
  "nbformat": 4,
  "nbformat_minor": 0,
  "metadata": {
    "colab": {
      "name": "Untitled2.ipynb",
      "provenance": [],
      "collapsed_sections": [],
      "history_visible": true,
      "authorship_tag": "ABX9TyMcMstK7lyovx+lLHHohGKQ",
      "include_colab_link": true
    },
    "kernelspec": {
      "display_name": "Python 3",
      "name": "python3"
    },
    "language_info": {
      "name": "python"
    }
  },
  "cells": [
    {
      "cell_type": "markdown",
      "metadata": {
        "id": "view-in-github",
        "colab_type": "text"
      },
      "source": [
        "<a href=\"https://colab.research.google.com/github/Alexandre481/Blueturma2/blob/main/Untitled2.ipynb\" target=\"_parent\"><img src=\"https://colab.research.google.com/assets/colab-badge.svg\" alt=\"Open In Colab\"/></a>"
      ]
    },
    {
      "cell_type": "markdown",
      "metadata": {
        "id": "kQUtVA5lzmvx"
      },
      "source": [
        "1) Faça um programa que mostre a mensagem \"Alo mundo\" na tela"
      ]
    },
    {
      "cell_type": "code",
      "metadata": {
        "colab": {
          "base_uri": "https://localhost:8080/"
        },
        "id": "Mk7R6UHMzCL2",
        "outputId": "846831f3-6702-448c-d8ef-3391b06aeca0"
      },
      "source": [
        "print(\"Alo mundo\")"
      ],
      "execution_count": null,
      "outputs": [
        {
          "output_type": "stream",
          "text": [
            "Alo mundo\n"
          ],
          "name": "stdout"
        }
      ]
    },
    {
      "cell_type": "markdown",
      "metadata": {
        "id": "PTQ_zDGw0HAj"
      },
      "source": [
        "2) Faça um programa que peça  um numero e então mostre a mensagem o numero informado foi"
      ]
    },
    {
      "cell_type": "code",
      "metadata": {
        "colab": {
          "base_uri": "https://localhost:8080/",
          "height": 135
        },
        "id": "YojHYO3q0ChV",
        "outputId": "d5a1d1a0-4481-4885-bb56-ef03d896d947"
      },
      "source": [
        "qualéonumero=input(\"Digite um numero:\")\n",
        "informe=(\"O numero informado foi:\"=(\"qualéonumero\"))\n",
        "print"
      ],
      "execution_count": 85,
      "outputs": [
        {
          "output_type": "error",
          "ename": "SyntaxError",
          "evalue": "ignored",
          "traceback": [
            "\u001b[0;36m  File \u001b[0;32m\"<ipython-input-85-3d5b23a84d13>\"\u001b[0;36m, line \u001b[0;32m2\u001b[0m\n\u001b[0;31m    informe=(\"O numero informado foi:\"=(\"qualéonumero\"))\u001b[0m\n\u001b[0m                                      ^\u001b[0m\n\u001b[0;31mSyntaxError\u001b[0m\u001b[0;31m:\u001b[0m invalid syntax\n"
          ]
        }
      ]
    },
    {
      "cell_type": "markdown",
      "metadata": {
        "id": "Eao6uMaCjh9q"
      },
      "source": [
        "3) Faça um programa que peça dois números e imprima a soma."
      ]
    },
    {
      "cell_type": "code",
      "metadata": {
        "id": "xyV48qHnM7vW"
      },
      "source": [
        ""
      ],
      "execution_count": null,
      "outputs": []
    },
    {
      "cell_type": "code",
      "metadata": {
        "id": "jtK2bogxjwFW",
        "colab": {
          "base_uri": "https://localhost:8080/"
        },
        "outputId": "81912994-d666-45ab-88d6-806e6f6724fb"
      },
      "source": [
        "A=input(\"Total de funcionários da empresa Statoil:\")\n",
        "B=input(\"Total de funcionários da empresa Chevron:\")\n",
        "\n",
        "A=int(a)\n",
        "B=int(b)\n",
        "\n",
        "\n",
        "print(\"A soma do numero total de funcionários após a fusão:\",soma)"
      ],
      "execution_count": 80,
      "outputs": [
        {
          "output_type": "stream",
          "text": [
            "Total de funcionários da empresa Statoil:2750\n",
            "Total de funcionários da empresa Chevron:1862\n",
            "A soma do numero total de funcionários após a fusão: 5200\n"
          ],
          "name": "stdout"
        }
      ]
    },
    {
      "cell_type": "markdown",
      "metadata": {
        "id": "0XIj9wh2FvCv"
      },
      "source": [
        "4) Faça um programa que peça as 4 notas bismetrais e mostre a média."
      ]
    },
    {
      "cell_type": "code",
      "metadata": {
        "colab": {
          "base_uri": "https://localhost:8080/"
        },
        "id": "BVOJ1mVGFtJD",
        "outputId": "dec0c53e-96ef-40d4-88a4-d8832c12dcb2"
      },
      "source": [
        "prova1=float(input(\"Nota 1º Bimestre:\"))\n",
        "prova2=float(input(\"Nota 2º Bimestre:\"))\n",
        "prova3=float(input(\"Nota 3º Bimestre:\"))\n",
        "prova4=float(input(\"Nota 4º Bimestre:\"))\n",
        "media=(prova1+prova2+prova3+prova4)/4\n",
        "print (media)"
      ],
      "execution_count": 20,
      "outputs": [
        {
          "output_type": "stream",
          "text": [
            "Nota 1º Bimestre:5.75\n",
            "Nota 2º Bimestre:6.25\n",
            "Nota 3º Bimestre:9\n",
            "Nota 4º Bimestre:7\n",
            "7.0\n"
          ],
          "name": "stdout"
        }
      ]
    },
    {
      "cell_type": "markdown",
      "metadata": {
        "id": "vK3qLYE2cfKN"
      },
      "source": [
        "5) Faça um programa que converta metros em centimetros.\n"
      ]
    },
    {
      "cell_type": "code",
      "metadata": {
        "colab": {
          "base_uri": "https://localhost:8080/"
        },
        "id": "xF2IlbpjiwZY",
        "outputId": "81fbb442-ed47-47a5-cd69-9f237fda9667"
      },
      "source": [
        "Metros=float(input(\"Quantidade em Metros=\"))\n",
        "\n",
        "print(\"Conversão em Centimetros=\",Metros*100)\n"
      ],
      "execution_count": 77,
      "outputs": [
        {
          "output_type": "stream",
          "text": [
            "Quantidade em Metros=2\n",
            "Conversão em Centimetros= 200.0\n"
          ],
          "name": "stdout"
        }
      ]
    },
    {
      "cell_type": "markdown",
      "metadata": {
        "id": "hnOCsP_ONC0F"
      },
      "source": [
        "6) Faça um programa que peça um raio de um circulo ,calcule e mostre a sua área."
      ]
    },
    {
      "cell_type": "code",
      "metadata": {
        "colab": {
          "base_uri": "https://localhost:8080/"
        },
        "id": "6EOAKzKqNBHV",
        "outputId": "e1b38d0f-8393-4c48-8c55-451f79c2ebfe"
      },
      "source": [
        "pi=3.14\n",
        "raio = float(input('Informe o valor do raio do círculo em m2: '))\n",
        "\n",
        "area = pi * (raio ** 2)\n",
        "print('A área do circulo é de :',area,'m2')\n"
      ],
      "execution_count": 25,
      "outputs": [
        {
          "output_type": "stream",
          "text": [
            "Informe o valor do raio do círculo em m2: 12\n",
            "A área do circulo é de : 452.16 m2\n"
          ],
          "name": "stdout"
        }
      ]
    },
    {
      "cell_type": "markdown",
      "metadata": {
        "id": "r0QPRy_TjFBD"
      },
      "source": [
        "7) Faça um programa que calcule a área de um quadrado ,em seguida mostre o dobro desta área para o usuário."
      ]
    },
    {
      "cell_type": "code",
      "metadata": {
        "colab": {
          "base_uri": "https://localhost:8080/"
        },
        "id": "491gtujojXb4",
        "outputId": "6f706473-425a-4196-ac4a-8c77d0938b11"
      },
      "source": [
        "altura=float(input(\"Digite a altura do quadrado em metros\"))\n",
        "largura=float(input(\"Digite a largura do quadrado em metros\"))\n",
        "a =(altura * largura)\n",
        "print (\"O dobro da area é \",a * 2,\"m²\") "
      ],
      "execution_count": 52,
      "outputs": [
        {
          "output_type": "stream",
          "text": [
            "Digite a altura do quadrado em metros15\n",
            "Digite a largura do quadrado em metros12.5\n",
            "O dobro da area é  375.0 m²\n"
          ],
          "name": "stdout"
        }
      ]
    },
    {
      "cell_type": "markdown",
      "metadata": {
        "id": "RSXDyqTix9sS"
      },
      "source": [
        "8) Faça um programa que pergunte quanto você ganha por hora e o numero de horas trabalhadas no mês.Calcule e mostre o total do seu salário no referido mês."
      ]
    },
    {
      "cell_type": "code",
      "metadata": {
        "colab": {
          "base_uri": "https://localhost:8080/"
        },
        "id": "QHfcveM-yHvE",
        "outputId": "6b72757e-61fb-4296-dc68-cec464c13dda"
      },
      "source": [
        "GH =float(input(\"Quanto você ganha por hora: \"))\n",
        "HTM=float(input(\"Quantas horas você trabalhou no mês: \"))\n",
        "\n",
        "Salariodomes=(qH * hT)\n",
        "\n",
        "\n",
        "print('Seu salário no mês é',Salariodomes)\n"
      ],
      "execution_count": 70,
      "outputs": [
        {
          "output_type": "stream",
          "text": [
            "Quanto você ganha por hora: 8\n",
            "Quantas horas você trabalhou no mês: 160\n",
            "Seu salário no mês é 1360.0\n"
          ],
          "name": "stdout"
        }
      ]
    },
    {
      "cell_type": "markdown",
      "metadata": {
        "id": "SGlsmiXdi5wY"
      },
      "source": [
        "9) Faça um programa que peça a temperatura em grau Fahrenheit,tranforme e mostre a temperatura em graus Celsius c=5*((F-32)/9)\n"
      ]
    },
    {
      "cell_type": "code",
      "metadata": {
        "colab": {
          "base_uri": "https://localhost:8080/"
        },
        "id": "Kg4r__afxNru",
        "outputId": "966ccd88-baad-48e7-f47e-cc9ef8552dcc"
      },
      "source": [
        "FAH = float(input('Entre com a temperatura em graus Fahrenheit: '))\n",
        "C = (F - 32) * (5 / 9)\n",
        "\n",
        "print('Valor em Graus Celsius: {0}°C'.format(C))\n"
      ],
      "execution_count": 3,
      "outputs": [
        {
          "output_type": "stream",
          "text": [
            "Entre com a temperatura em graus Fahrenheit: 50\n",
            "Valor em Graus Celsius: 10.0°C\n"
          ],
          "name": "stdout"
        }
      ]
    },
    {
      "cell_type": "markdown",
      "metadata": {
        "id": "6M2FW1TeJwf-"
      },
      "source": [
        "10) Faça um programa que peça a temperatura em graus  Celsius,transforme e mostre em graus Fahrenheit."
      ]
    },
    {
      "cell_type": "code",
      "metadata": {
        "colab": {
          "base_uri": "https://localhost:8080/"
        },
        "id": "DT9hU30pKJjm",
        "outputId": "f5d0f94c-7164-4a85-977e-b24a84d9678f"
      },
      "source": [
        " C = float(input('Entre com a temperatura em graus Celsius: '))\n",
        " F = C * (9 / 5) + 32\n",
        "print('Valor em Fahrenheit: {}°F'.format(F))\n"
      ],
      "execution_count": 7,
      "outputs": [
        {
          "output_type": "stream",
          "text": [
            "Entre com a temperatura em graus Celsius: 25\n",
            "Valor em Fahrenheit: 77.0°F\n"
          ],
          "name": "stdout"
        }
      ]
    },
    {
      "cell_type": "markdown",
      "metadata": {
        "id": "4zYHtw3PXNXz"
      },
      "source": [
        "11) Faça um programa que peça 2 numeros inteiros e um  numero real.Calcule e mostre:\n",
        "a. O produto do dobro  do primeiro com metade do segundo.\n",
        "b. A soma do triplo do primeiro com o terceiro.\n",
        "c. O terceiro elevado ao cubo.\n"
      ]
    },
    {
      "cell_type": "code",
      "metadata": {
        "colab": {
          "base_uri": "https://localhost:8080/"
        },
        "id": "uehGwTgiXy3a",
        "outputId": "2cc8a99f-138a-4916-c217-cabff1f9f5e3"
      },
      "source": [
        "\n",
        "n1 = int(input(\"1o Número inteiro: \"))\n",
        "n2 = int(input(\"2o Número inteiro: \"))\n",
        "n3 = float(input('Número real: '))\n",
        "\n",
        "print ('Produto:', ((2*n1) * (n2/2)))\n",
        "print ('Soma:', (3 * n1) + n3)\n",
        "print ('Cubo:', n3**3)\n"
      ],
      "execution_count": 46,
      "outputs": [
        {
          "output_type": "stream",
          "text": [
            "1o Número inteiro: 6\n",
            "2o Número inteiro: 4\n",
            "Número real: 2.2\n",
            "Produto: 24.0\n",
            "Soma: 20.2\n",
            "Cubo: 10.648000000000003\n"
          ],
          "name": "stdout"
        }
      ]
    },
    {
      "cell_type": "markdown",
      "metadata": {
        "id": "jp5ZhKrDod-l"
      },
      "source": [
        "12) Tendo como dados de entrada a altura  de uma pessoa ,construa um algoritimo que calcule seu peso ideal ,usando a seguinte formula:(72.7*altura)-58. "
      ]
    },
    {
      "cell_type": "code",
      "metadata": {
        "colab": {
          "base_uri": "https://localhost:8080/"
        },
        "id": "F9ZBL5DEtwuz",
        "outputId": "bc2a61bd-d677-451c-be80-af5694bb7bd9"
      },
      "source": [
        "A=float(input(\"Digite sua altura:\"))\n",
        "print(\"Peso Ideal:\",float(72.7*A)-58,\"\")\n"
      ],
      "execution_count": 119,
      "outputs": [
        {
          "output_type": "stream",
          "text": [
            "Digite sua altura:1.80\n",
            "Peso Ideal: 72.86000000000001 \n"
          ],
          "name": "stdout"
        }
      ]
    },
    {
      "cell_type": "markdown",
      "metadata": {
        "id": "ifXvUaQz8oNx"
      },
      "source": [
        "13) Tendo como dado de entrada a altura(h) de uma pessoa,construa uma algoritimo que calcule seu peso ideal,utilizando as seguintes fórmulas:\n",
        "A. Para Homens:(72.7*h)-58\n",
        "B. Para Mulheres (61.1*h)-44.7 "
      ]
    },
    {
      "cell_type": "code",
      "metadata": {
        "id": "Y8jPHUZwI3i_"
      },
      "source": [
        "if sexo == H:\"Homem\"\n",
        "    aH = input('Digite sua altura: ')\n",
        "    vH = 72.7 * aH\n",
        "    rH = vH - 58\n",
        "    print ('Seu peso ideal é ',rH,'quilos')\n",
        "elif sexo == M:\"Mulher\"\n",
        "    aM = input('Digite sua altura: ')\n",
        "    vM = 62.1 * aM\n",
        "    rM = vM - 44.7\n",
        "    print('Seu peso ideal é '),rM,('quilos')"
      ],
      "execution_count": null,
      "outputs": []
    }
  ]
}